{
 "cells": [
  {
   "cell_type": "code",
   "execution_count": 1,
   "metadata": {},
   "outputs": [
    {
     "name": "stderr",
     "output_type": "stream",
     "text": [
      "[nltk_data] Downloading package wordnet to\n",
      "[nltk_data]     C:\\Users\\noelm\\AppData\\Roaming\\nltk_data...\n",
      "[nltk_data]   Package wordnet is already up-to-date!\n"
     ]
    },
    {
     "data": {
      "text/plain": [
       "True"
      ]
     },
     "execution_count": 1,
     "metadata": {},
     "output_type": "execute_result"
    }
   ],
   "source": [
    "import nltk \n",
    "from nltk.corpus import wordnet\n",
    "nltk.download('wordnet')"
   ]
  },
  {
   "cell_type": "code",
   "execution_count": 2,
   "metadata": {},
   "outputs": [],
   "source": [
    "def get_synonyms(word):\n",
    "    synonyms = []\n",
    "    for syn in wordnet.synsets(word):\n",
    "        for lemma in syn.lemmas():\n",
    "            synonyms.append(lemma.name())\n",
    "    return synonyms"
   ]
  },
  {
   "cell_type": "code",
   "execution_count": 3,
   "metadata": {},
   "outputs": [
    {
     "name": "stdout",
     "output_type": "stream",
     "text": [
      "Synonyms for bear: ['bear', 'bear', 'bear', 'give_birth', 'deliver', 'bear', 'birth', 'have', 'digest', 'endure', 'stick_out', 'stomach', 'bear', 'stand', 'tolerate', 'support', 'brook', 'abide', 'suffer', 'put_up', 'bear', 'bear', 'turn_out', 'bear', 'take_over', 'accept', 'assume', 'hold', 'bear', 'carry', 'contain', 'yield', 'pay', 'bear', 'wear', 'bear', 'behave', 'acquit', 'bear', 'deport', 'conduct', 'comport', 'carry', 'bear', 'hold', 'hold', 'carry', 'bear', 'have_a_bun_in_the_oven', 'bear', 'carry', 'gestate', 'expect']\n",
      "Synonyms for set: ['set', 'set', 'set', 'exercise_set', 'stage_set', 'set', 'set', 'circle', 'band', 'lot', 'bent', 'set', 'set', 'set', 'hardening', 'solidifying', 'solidification', 'set', 'curing', 'Set', 'Seth', 'set', 'set', 'readiness', 'set', 'put', 'set', 'place', 'pose', 'position', 'lay', 'determine', 'set', 'specify', 'set', 'determine', 'define', 'fix', 'limit', 'set', 'mark', 'set', 'set', 'fix', 'prepare', 'set_up', 'ready', 'gear_up', 'set', 'set', 'set', 'localize', 'localise', 'place', 'set', 'go_down', 'go_under', 'arrange', 'set', 'plant', 'set', 'set', 'jell', 'set', 'congeal', 'typeset', 'set', 'set', 'set', 'countersink', 'set', 'sic', 'set', 'place', 'put', 'set', 'rig', 'set', 'set_up', 'set_up', 'lay_out', 'set', 'adjust', 'set', 'correct', 'fructify', 'set', 'dress', 'arrange', 'set', 'do', 'coif', 'coiffe', 'coiffure', 'fit', 'primed', 'set', 'fixed', 'set', 'rigid', 'located', 'placed', 'set', 'situated', 'laid', 'set', 'set', 'determined', 'dictated', 'set', 'hardened', 'set']\n",
      "Synonyms for square: ['square', 'foursquare', 'square', 'second_power', 'public_square', 'square', 'square', 'square', 'lame', 'square', 'square_toes', 'square', 'square', 'square', 'square_up', 'square', 'square', 'square', 'square', 'square', 'feather', 'square', 'feather', 'square', 'square', 'straight', 'square', 'hearty', 'satisfying', 'solid', 'square', 'substantial', 'square', 'square', 'straightforward', 'straight', 'square', 'straight', 'squarely', 'square', 'squarely', 'square', 'squarely', 'square']\n",
      "Synonyms for lead: ['lead', 'lead', 'Pb', 'atomic_number_82', 'lead', 'track', 'trail', 'lead', 'lead', 'lead', 'lead-in', 'lede', 'lead', 'star', 'principal', 'lead', 'lead', 'tip', 'lead', 'steer', 'confidential_information', 'wind', 'hint', 'lead', 'lead_story', 'spark_advance', 'lead', 'leash', 'tether', 'lead', 'lead', 'leading', 'lead', 'pencil_lead', 'jumper_cable', 'jumper_lead', 'lead', 'booster_cable', 'lead', 'lead', 'take', 'direct', 'conduct', 'guide', 'leave', 'result', 'lead', 'lead', 'lead', 'head', 'lead', 'run', 'go', 'pass', 'lead', 'extend', 'head', 'lead', 'lead', 'top', 'contribute', 'lead', 'conduce', 'conduct', 'lead', 'direct', 'go', 'lead', 'precede', 'lead', 'run', 'lead', 'moderate', 'chair', 'lead']\n",
      "Synonyms for criteria: ['standard', 'criterion', 'measure', 'touchstone', 'criterion', 'standard']\n"
     ]
    }
   ],
   "source": [
    "words = ['bear', 'set', 'square', 'lead', 'criteria']\n",
    "\n",
    "for word in words:\n",
    "    synonyms = get_synonyms(word)\n",
    "    print(f\"Synonyms for {word}: {synonyms}\")"
   ]
  },
  {
   "cell_type": "markdown",
   "metadata": {},
   "source": [
    "a) Find the 3rd meaning of the word in the list."
   ]
  },
  {
   "cell_type": "code",
   "execution_count": 4,
   "metadata": {},
   "outputs": [],
   "source": [
    "def get_def(word):\n",
    "    synsets = wordnet.synsets(word)\n",
    "    if len(synsets) < 3:\n",
    "        return f\"No third synonym found for '{word}'\"\n",
    "    synset = synsets [2]\n",
    "    third_synonym = synset.lemmas()[0].name()\n",
    "    definitions = synset.definition()\n",
    "    return f\"Meaning of the 3rd synonym in the list'{word}':\\nSynonym: {third_synonym}\\nDefinition: {definitions}\""
   ]
  },
  {
   "cell_type": "code",
   "execution_count": 5,
   "metadata": {},
   "outputs": [
    {
     "name": "stdout",
     "output_type": "stream",
     "text": [
      "Meaning of the 3rd synonym in the list'bear':\n",
      "Synonym: bear\n",
      "Definition: have\n",
      "Meaning of the 3rd synonym in the list'set':\n",
      "Synonym: set\n",
      "Definition: several exercises intended to be done in series\n",
      "Meaning of the 3rd synonym in the list'square':\n",
      "Synonym: public_square\n",
      "Definition: an open area at the meeting of two or more streets\n",
      "Meaning of the 3rd synonym in the list'lead':\n",
      "Synonym: lead\n",
      "Definition: evidence pointing to a possible solution\n",
      "No third synonym found for 'criteria'\n"
     ]
    }
   ],
   "source": [
    "for word in words:\n",
    "    print(get_def(word))"
   ]
  },
  {
   "cell_type": "markdown",
   "metadata": {},
   "source": [
    "b) Extract the nouns of the word from the synonyms list."
   ]
  },
  {
   "cell_type": "code",
   "execution_count": 8,
   "metadata": {},
   "outputs": [],
   "source": [
    "def ext_nouns(words):\n",
    "    nouns = set()  \n",
    "    for word in words:\n",
    "        synsets = wordnet.synsets(word)\n",
    "        for synset in synsets:\n",
    "            if synset.pos() == 'n':\n",
    "                nouns.add(word)\n",
    "                break\n",
    "    return list(nouns)  \n"
   ]
  },
  {
   "cell_type": "code",
   "execution_count": 9,
   "metadata": {},
   "outputs": [
    {
     "name": "stdout",
     "output_type": "stream",
     "text": [
      "Nouns extracted from synonyms: ['set', 'bear', 'square', 'lead', 'criteria']\n"
     ]
    }
   ],
   "source": [
    "\n",
    "nouns = ext_nouns(words)\n",
    "print(\"Nouns extracted from synonyms:\", nouns)\n"
   ]
  },
  {
   "cell_type": "markdown",
   "metadata": {},
   "source": [
    "c) Extract the verbs of the word from the synonyms list."
   ]
  },
  {
   "cell_type": "code",
   "execution_count": 12,
   "metadata": {},
   "outputs": [],
   "source": [
    "def ext_verbs(synonyms):\n",
    "    verbs = set()\n",
    "    for synonym in synonyms:\n",
    "        synsets = wordnet.synsets(synonym)\n",
    "        for synset in synsets:\n",
    "            if synset.pos() == 'v':\n",
    "                verbs.add(synset.name().split('.')[0])\n",
    "    return list(verbs)"
   ]
  },
  {
   "cell_type": "code",
   "execution_count": 13,
   "metadata": {},
   "outputs": [
    {
     "name": "stdout",
     "output_type": "stream",
     "text": [
      "Verbs extracted from synonyms: ['guarantee', 'well', 'rehearse', 'plug', 'secure', 'fathom', 'drill', 'practice', 'wax', 'procure', 'batten', 'fasten', 'right', 'full', 'commit', 'sound', 'approach', 'correct', 'voice']\n"
     ]
    }
   ],
   "source": [
    "verbs = ext_verbs(synonyms)\n",
    "print(\"Verbs extracted from synonyms:\", list(verbs))"
   ]
  },
  {
   "cell_type": "markdown",
   "metadata": {},
   "source": [
    "d) Extract the adjectives of the word from the synonyms list."
   ]
  },
  {
   "cell_type": "code",
   "execution_count": 16,
   "metadata": {},
   "outputs": [],
   "source": [
    "def ext_adjectives(synonyms):\n",
    "    adj  = set()\n",
    "    for synonym in synonyms:\n",
    "        synsets = wordnet.synsets(synonym)\n",
    "        for synset in synsets:\n",
    "            if synset.pos() == 'a':\n",
    "                adj.add(synset.name().split('.')[0])\n",
    "    return list(adj)"
   ]
  },
  {
   "cell_type": "code",
   "execution_count": 17,
   "metadata": {},
   "outputs": [
    {
     "name": "stdout",
     "output_type": "stream",
     "text": [
      "Adjectives extracted from Synonyms :  ['effective', 'well', 'near', 'estimable', 'equitable', 'secure', 'unplayful', 'honorable', 'serious', 'fair', 'honest', 'just', 'right', 'full', 'technical', 'erect', 'sound', 'respectable', 'good', 'reliable', 'safe', 'correct', 'ripe']\n"
     ]
    }
   ],
   "source": [
    "adjectives = ext_adjectives(synonyms)\n",
    "print(\"Adjectives extracted from Synonyms : \", list(adjectives))"
   ]
  },
  {
   "cell_type": "markdown",
   "metadata": {},
   "source": [
    "e) Extract the adverbs of the word from the synonyms list."
   ]
  },
  {
   "cell_type": "code",
   "execution_count": 18,
   "metadata": {},
   "outputs": [],
   "source": [
    "def ext_adverbs(synonyms):\n",
    "    adverb  = set()\n",
    "    for synonym in synonyms:\n",
    "        synsets = wordnet.synsets(synonym)\n",
    "        for synset in synsets :\n",
    "            if synset.pos() == 'r':\n",
    "                adverb.add(synset.name().split('.')[0])\n",
    "    return list(adverb)"
   ]
  },
  {
   "cell_type": "code",
   "execution_count": 19,
   "metadata": {},
   "outputs": [
    {
     "name": "stdout",
     "output_type": "stream",
     "text": [
      "Adverbs extracted from Synonyms :  ['about', 'fully', 'properly', 'precisely', 'correctly', 'barely', 'well', 'thoroughly', 'mighty', 'near', 'soundly', 'just', 'dearly', 'merely', 'right', 'justly', 'effectively']\n"
     ]
    }
   ],
   "source": [
    "adverbs  = ext_adverbs(synonyms)\n",
    "print(\"Adverbs extracted from Synonyms : \", list(adverbs))"
   ]
  },
  {
   "cell_type": "markdown",
   "metadata": {},
   "source": [
    "f) Extract the definition of the word."
   ]
  },
  {
   "cell_type": "markdown",
   "metadata": {},
   "source": []
  },
  {
   "cell_type": "code",
   "execution_count": null,
   "metadata": {},
   "outputs": [],
   "source": []
  }
 ],
 "metadata": {
  "kernelspec": {
   "display_name": "Python 3",
   "language": "python",
   "name": "python3"
  },
  "language_info": {
   "codemirror_mode": {
    "name": "ipython",
    "version": 3
   },
   "file_extension": ".py",
   "mimetype": "text/x-python",
   "name": "python",
   "nbconvert_exporter": "python",
   "pygments_lexer": "ipython3",
   "version": "3.12.1"
  }
 },
 "nbformat": 4,
 "nbformat_minor": 2
}
